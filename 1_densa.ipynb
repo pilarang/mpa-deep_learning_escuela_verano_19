{
  "nbformat": 4,
  "nbformat_minor": 0,
  "metadata": {
    "colab": {
      "name": "1_densa.ipynb",
      "version": "0.3.2",
      "provenance": [],
      "collapsed_sections": [],
      "include_colab_link": true
    },
    "kernelspec": {
      "name": "python3",
      "display_name": "Python 3"
    }
  },
  "cells": [
    {
      "cell_type": "markdown",
      "metadata": {
        "id": "view-in-github",
        "colab_type": "text"
      },
      "source": [
        "<a href=\"https://colab.research.google.com/github/beangoben/deep_learning_escuela_verano_19/blob/master/notebooks/1_densa.ipynb\" target=\"_parent\"><img src=\"https://colab.research.google.com/assets/colab-badge.svg\" alt=\"Open In Colab\"/></a>"
      ]
    },
    {
      "cell_type": "markdown",
      "metadata": {
        "id": "5-1339ovz37o",
        "colab_type": "text"
      },
      "source": [
        "# Red neuronal densa\n",
        "Una red neuronal está compuesta por una capa de entrada, una o más capas ocultas y una capa de salida. Cada neurona en una capa de una red neuronal densa recibe conexiones de cada salida de la capa anterior. Veámos cómo programar una usando Tensorflow 2.0 con la interfaz de Keras. \n",
        "\n",
        "La tarea que vamos a realizar es la clasificación de ropa usando la base de datos [Fashion MNIST](https://arxiv.org/abs/1708.07747), la cual consiste de 60,000 imágenes de entrenamiento y 10,000 de prueba asociadas a 10 categorías de ropa.\n",
        "\n",
        "| **Etiqueta**| **Categoría** |\n",
        "| ------------- |:-------------:| \n",
        "|0|T-shirt/top|\n",
        "|1|Trouser|\n",
        "|2|Pullover|\n",
        "|3|Dress|\n",
        "|4|Coat|\n",
        "|5|Sandal|\n",
        "|6|Shirt|\n",
        "|7|Sneaker|\n",
        "|8|Bag|\n",
        "|9|Angle boot|\n",
        "\n",
        "Todas las imágenes son de $28 \\times 28$ pixeles en escala de grises. Algunos ejemplos se muestran a continuación:\n",
        "\n",
        "![Fashion MNIST](https://raw.githubusercontent.com/zalandoresearch/fashion-mnist/master/doc/img/fashion-mnist-sprite.png)"
      ]
    },
    {
      "cell_type": "code",
      "metadata": {
        "id": "zsArlKkwkPFq",
        "colab_type": "code",
        "colab": {}
      },
      "source": [
        "etiquetas = [\"T-shirt/top\",\n",
        "             \"Trouser\",    \n",
        "             \"Pullover\",   \n",
        "             \"Dress\",      \n",
        "             \"Coat\",       \n",
        "             \"Sandal\",      \n",
        "             \"Shirt\",       \n",
        "             \"Sneaker\",     \n",
        "             \"Bag\",         \n",
        "             \"Ankle boot\"]"
      ],
      "execution_count": 0,
      "outputs": []
    },
    {
      "cell_type": "markdown",
      "metadata": {
        "id": "wFU23l2L1dzZ",
        "colab_type": "text"
      },
      "source": [
        "Keras cuenta con funciones nativas para descargar las particiones de entrenamiento y prueba de esta base de datos:"
      ]
    },
    {
      "cell_type": "code",
      "metadata": {
        "id": "R9fUIYFnrUYP",
        "colab_type": "code",
        "outputId": "62a5c408-5d38-46a4-ff59-d294eaf15bd2",
        "colab": {
          "base_uri": "https://localhost:8080/",
          "height": 419
        }
      },
      "source": [
        "!pip install tensorflow==2.0.0-beta1\n",
        "from tensorflow.keras.datasets import fashion_mnist\n",
        "\n",
        "(X_ent, y_ent), (X_prueba, y_prueba) = fashion_mnist.load_data()\n",
        "\n",
        "print(X_ent.shape)\n",
        "print(X_prueba.shape)"
      ],
      "execution_count": 2,
      "outputs": [
        {
          "output_type": "stream",
          "text": [
            "Requirement already satisfied: tensorflow==2.0.0-beta1 in /usr/local/lib/python3.6/dist-packages (2.0.0b1)\n",
            "Requirement already satisfied: google-pasta>=0.1.6 in /usr/local/lib/python3.6/dist-packages (from tensorflow==2.0.0-beta1) (0.1.7)\n",
            "Requirement already satisfied: absl-py>=0.7.0 in /usr/local/lib/python3.6/dist-packages (from tensorflow==2.0.0-beta1) (0.7.1)\n",
            "Requirement already satisfied: wrapt>=1.11.1 in /usr/local/lib/python3.6/dist-packages (from tensorflow==2.0.0-beta1) (1.11.1)\n",
            "Requirement already satisfied: wheel>=0.26 in /usr/local/lib/python3.6/dist-packages (from tensorflow==2.0.0-beta1) (0.33.4)\n",
            "Requirement already satisfied: six>=1.10.0 in /usr/local/lib/python3.6/dist-packages (from tensorflow==2.0.0-beta1) (1.12.0)\n",
            "Requirement already satisfied: astor>=0.6.0 in /usr/local/lib/python3.6/dist-packages (from tensorflow==2.0.0-beta1) (0.8.0)\n",
            "Requirement already satisfied: protobuf>=3.6.1 in /usr/local/lib/python3.6/dist-packages (from tensorflow==2.0.0-beta1) (3.7.1)\n",
            "Requirement already satisfied: termcolor>=1.1.0 in /usr/local/lib/python3.6/dist-packages (from tensorflow==2.0.0-beta1) (1.1.0)\n",
            "Requirement already satisfied: gast>=0.2.0 in /usr/local/lib/python3.6/dist-packages (from tensorflow==2.0.0-beta1) (0.2.2)\n",
            "Requirement already satisfied: keras-preprocessing>=1.0.5 in /usr/local/lib/python3.6/dist-packages (from tensorflow==2.0.0-beta1) (1.1.0)\n",
            "Requirement already satisfied: grpcio>=1.8.6 in /usr/local/lib/python3.6/dist-packages (from tensorflow==2.0.0-beta1) (1.15.0)\n",
            "Requirement already satisfied: tf-estimator-nightly<1.14.0.dev2019060502,>=1.14.0.dev2019060501 in /usr/local/lib/python3.6/dist-packages (from tensorflow==2.0.0-beta1) (1.14.0.dev2019060501)\n",
            "Requirement already satisfied: keras-applications>=1.0.6 in /usr/local/lib/python3.6/dist-packages (from tensorflow==2.0.0-beta1) (1.0.8)\n",
            "Requirement already satisfied: numpy<2.0,>=1.14.5 in /usr/local/lib/python3.6/dist-packages (from tensorflow==2.0.0-beta1) (1.16.4)\n",
            "Requirement already satisfied: tb-nightly<1.14.0a20190604,>=1.14.0a20190603 in /usr/local/lib/python3.6/dist-packages (from tensorflow==2.0.0-beta1) (1.14.0a20190603)\n",
            "Requirement already satisfied: setuptools in /usr/local/lib/python3.6/dist-packages (from protobuf>=3.6.1->tensorflow==2.0.0-beta1) (41.0.1)\n",
            "Requirement already satisfied: h5py in /usr/local/lib/python3.6/dist-packages (from keras-applications>=1.0.6->tensorflow==2.0.0-beta1) (2.8.0)\n",
            "Requirement already satisfied: werkzeug>=0.11.15 in /usr/local/lib/python3.6/dist-packages (from tb-nightly<1.14.0a20190604,>=1.14.0a20190603->tensorflow==2.0.0-beta1) (0.15.4)\n",
            "Requirement already satisfied: markdown>=2.6.8 in /usr/local/lib/python3.6/dist-packages (from tb-nightly<1.14.0a20190604,>=1.14.0a20190603->tensorflow==2.0.0-beta1) (3.1.1)\n",
            "(60000, 28, 28)\n",
            "(10000, 28, 28)\n"
          ],
          "name": "stdout"
        }
      ]
    },
    {
      "cell_type": "markdown",
      "metadata": {
        "id": "yNRYJ-1L3hoH",
        "colab_type": "text"
      },
      "source": [
        "Ya descargadas las imágenes, podemos visualizar algunas para ver cómo lucen:"
      ]
    },
    {
      "cell_type": "code",
      "metadata": {
        "id": "BBmgQ7cR321G",
        "colab_type": "code",
        "outputId": "8fbabb8a-aa55-4c1a-c445-416d4023bff5",
        "colab": {
          "base_uri": "https://localhost:8080/",
          "height": 287
        }
      },
      "source": [
        "import matplotlib.pyplot as plt\n",
        "plt.subplot(331)\n",
        "plt.imshow(X_ent[0], cmap='Greys')\n",
        "plt.subplot(332)\n",
        "plt.imshow(X_ent[1], cmap='Greys')\n",
        "plt.subplot(333)\n",
        "plt.imshow(X_ent[2], cmap='Greys')\n",
        "plt.subplot(334)\n",
        "plt.imshow(X_ent[3], cmap='Greys')\n",
        "plt.subplot(335)\n",
        "plt.imshow(X_ent[4], cmap='Greys')\n",
        "plt.subplot(336)\n",
        "plt.imshow(X_ent[5], cmap='Greys')\n",
        "plt.subplot(337)\n",
        "plt.imshow(X_ent[6], cmap='Greys')\n",
        "plt.subplot(338)\n",
        "plt.imshow(X_ent[7], cmap='Greys')\n",
        "plt.subplot(339)\n",
        "plt.imshow(X_ent[8], cmap='Greys')\n"
      ],
      "execution_count": 3,
      "outputs": [
        {
          "output_type": "execute_result",
          "data": {
            "text/plain": [
              "<matplotlib.image.AxesImage at 0x7f8d1282b1d0>"
            ]
          },
          "metadata": {
            "tags": []
          },
          "execution_count": 3
        },
        {
          "output_type": "display_data",
          "data": {
            "image/png": "[encoded data removed]",
            "text/plain": [
              "<Figure size 432x288 with 9 Axes>"
            ]
          },
          "metadata": {
            "tags": []
          }
        }
      ]
    },
    {
      "cell_type": "markdown",
      "metadata": {
        "id": "xvysYRrMGIZG",
        "colab_type": "text"
      },
      "source": [
        "Como se mencionó, las imágenes son de $28 \\times 28$ pixeles en escala de grises. Sin embargo, para poder alimentar nuestra red neuronal densa con las imágenes es necesario vectorizarlas. "
      ]
    },
    {
      "cell_type": "code",
      "metadata": {
        "id": "zwSJLz8MN2HT",
        "colab_type": "code",
        "outputId": "fd6b5f02-d0a8-4dc6-bad7-4c9f3b40a78f",
        "colab": {
          "base_uri": "https://localhost:8080/",
          "height": 52
        }
      },
      "source": [
        "X_ent = X_ent.reshape(X_ent.shape[0], 784)\n",
        "X_prueba = X_prueba.reshape(X_prueba.shape[0], 784)\n",
        "print(X_ent.shape)\n",
        "print(X_prueba.shape)"
      ],
      "execution_count": 4,
      "outputs": [
        {
          "output_type": "stream",
          "text": [
            "(60000, 784)\n",
            "(10000, 784)\n"
          ],
          "name": "stdout"
        }
      ]
    },
    {
      "cell_type": "markdown",
      "metadata": {
        "id": "Cs4tg-S-Q1YZ",
        "colab_type": "text"
      },
      "source": [
        "Cada entrada sería un vector de 784 dimensiones con posibles valores de 0 a 255 que representan una intensidad de gris. En la capa de entrada tendríamos todos los pixeles de la imagen más un 1 correspondiente al sesgo. \n",
        "\n",
        "Es conveniente normalizar los valores de las imágenes para que estén en el mismo rango, ya que los algoritmos de aprendizaje pueden ser sensibles. "
      ]
    },
    {
      "cell_type": "code",
      "metadata": {
        "id": "Qj8NdJWBSRw_",
        "colab_type": "code",
        "outputId": "a9009832-7d48-4f07-adc3-459f0df67982",
        "colab": {
          "base_uri": "https://localhost:8080/",
          "height": 156
        }
      },
      "source": [
        "import numpy as np \n",
        "\n",
        "print(np.min(X_ent))\n",
        "print(np.max(X_ent))\n",
        "print(np.min(X_prueba))\n",
        "print(np.max(X_prueba))\n",
        "X_ent = X_ent / 255\n",
        "X_prueba = X_prueba / 255\n",
        "print(np.min(X_ent))\n",
        "print(np.max(X_ent))\n",
        "print(np.min(X_prueba))\n",
        "print(np.max(X_prueba))\n"
      ],
      "execution_count": 5,
      "outputs": [
        {
          "output_type": "stream",
          "text": [
            "0\n",
            "255\n",
            "0\n",
            "255\n",
            "0.0\n",
            "1.0\n",
            "0.0\n",
            "1.0\n"
          ],
          "name": "stdout"
        }
      ]
    },
    {
      "cell_type": "markdown",
      "metadata": {
        "id": "8h8ugwBrdItr",
        "colab_type": "text"
      },
      "source": [
        "Es hora de definir nuestra arquitectura. Vamos a crear una red neuronal densa con 1 capa oculta. Para esta tarea, el número de neuronas en la capa de salida debe ser 10 debido a que tenemos 10 clases diferentes. Las salidas de estas neuronas se conectan a una función de activación softmax compartida. En las neuronas de la capa oculta ocuparemos la función de activación ReLU, que se define de la siguiente manera:\n",
        "\n",
        "$\n",
        "\\phi(z) = \\max(0, z)\n",
        "$\n",
        "\n",
        "\n",
        "Keras provee funciones y clases genéricas para distintos tipos de capas, cuyos argumentos nos permiten controlar algunos , como el número de neuronas o el tipo de función de activación. En particular, para capas denses contamos con `Dense`. "
      ]
    },
    {
      "cell_type": "code",
      "metadata": {
        "id": "F3R1eNIoeVWx",
        "colab_type": "code",
        "colab": {}
      },
      "source": [
        "from tensorflow.keras import Model, Input\n",
        "from tensorflow.keras.layers import Dense\n",
        "from tensorflow.keras.optimizers import SGD\n",
        "\n",
        "inputs = Input(shape=(X_ent.shape[1],), name='ropa')\n",
        "dense = Dense(30, activation='relu')(inputs)\n",
        "outputs = Dense(10, activation='softmax')(dense)\n",
        "\n",
        "model = Model(inputs=inputs, outputs=outputs, name='clasificador_ropa')"
      ],
      "execution_count": 0,
      "outputs": []
    },
    {
      "cell_type": "markdown",
      "metadata": {
        "id": "HBRAFOXXu4x0",
        "colab_type": "text"
      },
      "source": [
        "¡Listo! Ya hemos definido nuestra arquitectura de red neuronal densa. Imprimamos el resumen para verificar que haya quedado como lo pensamos y para conocer el número de parámetros."
      ]
    },
    {
      "cell_type": "code",
      "metadata": {
        "id": "k1t5xRG9jrsG",
        "colab_type": "code",
        "outputId": "8ae923b0-4f27-4e5b-c6b6-a248436c32a1",
        "colab": {
          "base_uri": "https://localhost:8080/",
          "height": 260
        }
      },
      "source": [
        "model.summary()"
      ],
      "execution_count": 7,
      "outputs": [
        {
          "output_type": "stream",
          "text": [
            "Model: \"clasificador_ropa\"\n",
            "_________________________________________________________________\n",
            "Layer (type)                 Output Shape              Param #   \n",
            "=================================================================\n",
            "ropa (InputLayer)            [(None, 784)]             0         \n",
            "_________________________________________________________________\n",
            "dense (Dense)                (None, 30)                23550     \n",
            "_________________________________________________________________\n",
            "dense_1 (Dense)              (None, 10)                310       \n",
            "=================================================================\n",
            "Total params: 23,860\n",
            "Trainable params: 23,860\n",
            "Non-trainable params: 0\n",
            "_________________________________________________________________\n"
          ],
          "name": "stdout"
        }
      ]
    },
    {
      "cell_type": "markdown",
      "metadata": {
        "id": "gfp6RJ9kvZe1",
        "colab_type": "text"
      },
      "source": [
        "Podemos también dibujar un diagrama de bloques de nuestra red con la función `plot_model` de Keras."
      ]
    },
    {
      "cell_type": "code",
      "metadata": {
        "id": "UmG5JZ24kGFM",
        "colab_type": "code",
        "outputId": "9b2ae62f-2014-49da-f36d-54a06c53f4af",
        "colab": {
          "base_uri": "https://localhost:8080/",
          "height": 273
        }
      },
      "source": [
        "from tensorflow.keras.utils import plot_model\n",
        "plot_model(model, 'mi_arq.png')"
      ],
      "execution_count": 8,
      "outputs": [
        {
          "output_type": "execute_result",
          "data": {
            "image/png": "[encoded data removed]",
            "text/plain": [
              "<IPython.core.display.Image object>"
            ]
          },
          "metadata": {
            "tags": []
          },
          "execution_count": 8
        }
      ]
    },
    {
      "cell_type": "markdown",
      "metadata": {
        "id": "0FmGAMQNvqMY",
        "colab_type": "text"
      },
      "source": [
        "Para entrenar nuestra red neuronal densa necesitamos especificar la función de pérdida y la métrica de evaluación. Como estamos tratando con una tarea de clasificación multiclase, vamos a utilizar la entropía cruzada categórica:\n",
        "\n",
        "$\n",
        "      ECC = -\\left[\\sum_{i=1}^N\\sum_{k=1}^K 1\\{y^{(i)}=k\\}\\log \\frac{e^{z_k}}{\\sum_j e^{z_j}}\\right]\n",
        "$\n",
        "\n",
        "Para evaluar el modelo aprendido usaremos con la métrica de exactitud, la cual expresa la fracción de aciertos.\n",
        "\n",
        "Esta configuración la especificamos en Keras con el método `compile` de `Model`."
      ]
    },
    {
      "cell_type": "code",
      "metadata": {
        "id": "kQ6KYQNHkR1a",
        "colab_type": "code",
        "colab": {}
      },
      "source": [
        "model.compile(loss='categorical_crossentropy',\n",
        "              optimizer=SGD(learning_rate = 0.01),\n",
        "              metrics=['accuracy'])"
      ],
      "execution_count": 0,
      "outputs": []
    },
    {
      "cell_type": "markdown",
      "metadata": {
        "id": "VckHk25FaMfU",
        "colab_type": "text"
      },
      "source": [
        "Una estrategia común para evitar que el modelo sobreajuste es hacer un paro temprano del entrenamiento y guardar el modelo que mejor desempeño tenga en el conjunto de validación. En Keras podemos hacer esto a través de un `callback` llamado `EarlyStopping`. Definimos la pérdida en validación como la cantidad a monitorear usando el argumento `monitor = 'val_loss'`. Con el argumento `patience` podemos especificar un número de épocas a esperar que esta cantidad no mejore para parar el entrenamiento. Finalmente, el argumento `restore_best_weights = True` recupera el modelo que menor pérdida obtuvo en el conjunto de validación.\n"
      ]
    },
    {
      "cell_type": "code",
      "metadata": {
        "id": "YJxbwpJmarKx",
        "colab_type": "code",
        "colab": {}
      },
      "source": [
        "from tensorflow.keras.callbacks import EarlyStopping\n",
        "es = EarlyStopping(monitor='val_loss', patience=5, mode='auto', baseline=None, restore_best_weights=True)"
      ],
      "execution_count": 0,
      "outputs": []
    },
    {
      "cell_type": "markdown",
      "metadata": {
        "id": "RRfTTT_NaI8p",
        "colab_type": "text"
      },
      "source": [
        "Ahora lanzamos el entrenamiento de nuestra red neuronal densa con el método `fit` de `Model`. Aquí, debemos especificar el tamaño del lote, el número de épocas, qué fracción de los datos usar como conjunto de validación y los `callback` del paro temprano y de Tensorboard. \n",
        "\n",
        "La función `to_categorical` de Keras, convierte cada etiqueta (0, 1, ..., 9) a un vector binario de tamaño $K$ igual al número de categorías existentes, cuyos elementos son todos 0 excepto el de la categoría correspondiente (por ej. la codificación de la categoría 1 de 3 posibles sería $[1, 0, 0]$). de K dimensiones con todos los valores 0 excepto. Esta es la manera en la que Keras representa la salida deseada para compararla con la predicción del modelo durante el entrenamiento."
      ]
    },
    {
      "cell_type": "code",
      "metadata": {
        "id": "vyOgwT9LGNMe",
        "colab_type": "code",
        "outputId": "887c3c2c-f6d8-4df9-8202-2ea769269935",
        "colab": {
          "base_uri": "https://localhost:8080/",
          "height": 3556
        }
      },
      "source": [
        "from tensorflow.keras.utils import to_categorical\n",
        "history = model.fit(X_ent, to_categorical(y_ent),\n",
        "                    batch_size = 128,\n",
        "                    epochs = 100,\n",
        "                    validation_split = 0.1,\n",
        "                    callbacks=[es])"
      ],
      "execution_count": 11,
      "outputs": [
        {
          "output_type": "stream",
          "text": [
            "WARNING: Logging before flag parsing goes to stderr.\n",
            "W0624 10:00:59.750870 140244828383104 deprecation.py:323] From /usr/local/lib/python3.6/dist-packages/tensorflow/python/ops/math_grad.py:1250: add_dispatch_support.<locals>.wrapper (from tensorflow.python.ops.array_ops) is deprecated and will be removed in a future version.\n",
            "Instructions for updating:\n",
            "Use tf.where in 2.0, which has the same broadcast rule as np.where\n"
          ],
          "name": "stderr"
        },
        {
          "output_type": "stream",
          "text": [
            "Train on 54000 samples, validate on 6000 samples\n",
            "Epoch 1/100\n",
            "54000/54000 [==============================] - 2s 32us/sample - loss: 1.3602 - accuracy: 0.5833 - val_loss: 0.8896 - val_accuracy: 0.7083\n",
            "Epoch 2/100\n",
            "54000/54000 [==============================] - 1s 24us/sample - loss: 0.7871 - accuracy: 0.7428 - val_loss: 0.7010 - val_accuracy: 0.7707\n",
            "Epoch 3/100\n",
            "54000/54000 [==============================] - 1s 25us/sample - loss: 0.6703 - accuracy: 0.7793 - val_loss: 0.6282 - val_accuracy: 0.7878\n",
            "Epoch 4/100\n",
            "54000/54000 [==============================] - 1s 24us/sample - loss: 0.6133 - accuracy: 0.7968 - val_loss: 0.5873 - val_accuracy: 0.7968\n",
            "Epoch 5/100\n",
            "54000/54000 [==============================] - 1s 24us/sample - loss: 0.5766 - accuracy: 0.8076 - val_loss: 0.5620 - val_accuracy: 0.8067\n",
            "Epoch 6/100\n",
            "54000/54000 [==============================] - 1s 24us/sample - loss: 0.5509 - accuracy: 0.8142 - val_loss: 0.5458 - val_accuracy: 0.8110\n",
            "Epoch 7/100\n",
            "54000/54000 [==============================] - 1s 24us/sample - loss: 0.5312 - accuracy: 0.8203 - val_loss: 0.5203 - val_accuracy: 0.8210\n",
            "Epoch 8/100\n",
            "54000/54000 [==============================] - 1s 25us/sample - loss: 0.5165 - accuracy: 0.8243 - val_loss: 0.5065 - val_accuracy: 0.8253\n",
            "Epoch 9/100\n",
            "54000/54000 [==============================] - 1s 24us/sample - loss: 0.5039 - accuracy: 0.8288 - val_loss: 0.5039 - val_accuracy: 0.8227\n",
            "Epoch 10/100\n",
            "54000/54000 [==============================] - 1s 24us/sample - loss: 0.4943 - accuracy: 0.8313 - val_loss: 0.4877 - val_accuracy: 0.8300\n",
            "Epoch 11/100\n",
            "54000/54000 [==============================] - 1s 26us/sample - loss: 0.4853 - accuracy: 0.8333 - val_loss: 0.4851 - val_accuracy: 0.8265\n",
            "Epoch 12/100\n",
            "54000/54000 [==============================] - 1s 26us/sample - loss: 0.4782 - accuracy: 0.8360 - val_loss: 0.4772 - val_accuracy: 0.8322\n",
            "Epoch 13/100\n",
            "54000/54000 [==============================] - 1s 25us/sample - loss: 0.4719 - accuracy: 0.8380 - val_loss: 0.4686 - val_accuracy: 0.8382\n",
            "Epoch 14/100\n",
            "54000/54000 [==============================] - 1s 25us/sample - loss: 0.4657 - accuracy: 0.8406 - val_loss: 0.4612 - val_accuracy: 0.8378\n",
            "Epoch 15/100\n",
            "54000/54000 [==============================] - 1s 25us/sample - loss: 0.4608 - accuracy: 0.8411 - val_loss: 0.4589 - val_accuracy: 0.8395\n",
            "Epoch 16/100\n",
            "54000/54000 [==============================] - 1s 27us/sample - loss: 0.4564 - accuracy: 0.8425 - val_loss: 0.4622 - val_accuracy: 0.8358\n",
            "Epoch 17/100\n",
            "54000/54000 [==============================] - 1s 26us/sample - loss: 0.4520 - accuracy: 0.8442 - val_loss: 0.4518 - val_accuracy: 0.8387\n",
            "Epoch 18/100\n",
            "54000/54000 [==============================] - 1s 24us/sample - loss: 0.4481 - accuracy: 0.8461 - val_loss: 0.4473 - val_accuracy: 0.8413\n",
            "Epoch 19/100\n",
            "54000/54000 [==============================] - 1s 23us/sample - loss: 0.4446 - accuracy: 0.8462 - val_loss: 0.4442 - val_accuracy: 0.8427\n",
            "Epoch 20/100\n",
            "54000/54000 [==============================] - 1s 23us/sample - loss: 0.4414 - accuracy: 0.8477 - val_loss: 0.4435 - val_accuracy: 0.8455\n",
            "Epoch 21/100\n",
            "54000/54000 [==============================] - 1s 24us/sample - loss: 0.4380 - accuracy: 0.8488 - val_loss: 0.4368 - val_accuracy: 0.8467\n",
            "Epoch 22/100\n",
            "54000/54000 [==============================] - 1s 24us/sample - loss: 0.4346 - accuracy: 0.8507 - val_loss: 0.4380 - val_accuracy: 0.8438\n",
            "Epoch 23/100\n",
            "54000/54000 [==============================] - 1s 25us/sample - loss: 0.4321 - accuracy: 0.8513 - val_loss: 0.4350 - val_accuracy: 0.8487\n",
            "Epoch 24/100\n",
            "54000/54000 [==============================] - 1s 25us/sample - loss: 0.4298 - accuracy: 0.8521 - val_loss: 0.4320 - val_accuracy: 0.8470\n",
            "Epoch 25/100\n",
            "54000/54000 [==============================] - 1s 24us/sample - loss: 0.4264 - accuracy: 0.8528 - val_loss: 0.4437 - val_accuracy: 0.8422\n",
            "Epoch 26/100\n",
            "54000/54000 [==============================] - 1s 25us/sample - loss: 0.4244 - accuracy: 0.8536 - val_loss: 0.4298 - val_accuracy: 0.8487\n",
            "Epoch 27/100\n",
            "54000/54000 [==============================] - 1s 25us/sample - loss: 0.4216 - accuracy: 0.8544 - val_loss: 0.4249 - val_accuracy: 0.8482\n",
            "Epoch 28/100\n",
            "54000/54000 [==============================] - 1s 25us/sample - loss: 0.4195 - accuracy: 0.8549 - val_loss: 0.4235 - val_accuracy: 0.8507\n",
            "Epoch 29/100\n",
            "54000/54000 [==============================] - 1s 24us/sample - loss: 0.4171 - accuracy: 0.8569 - val_loss: 0.4251 - val_accuracy: 0.8467\n",
            "Epoch 30/100\n",
            "54000/54000 [==============================] - 1s 25us/sample - loss: 0.4147 - accuracy: 0.8576 - val_loss: 0.4216 - val_accuracy: 0.8510\n",
            "Epoch 31/100\n",
            "54000/54000 [==============================] - 1s 25us/sample - loss: 0.4124 - accuracy: 0.8580 - val_loss: 0.4200 - val_accuracy: 0.8527\n",
            "Epoch 32/100\n",
            "54000/54000 [==============================] - 1s 25us/sample - loss: 0.4106 - accuracy: 0.8578 - val_loss: 0.4191 - val_accuracy: 0.8528\n",
            "Epoch 33/100\n",
            "54000/54000 [==============================] - 1s 25us/sample - loss: 0.4087 - accuracy: 0.8591 - val_loss: 0.4186 - val_accuracy: 0.8502\n",
            "Epoch 34/100\n",
            "54000/54000 [==============================] - 1s 27us/sample - loss: 0.4066 - accuracy: 0.8596 - val_loss: 0.4111 - val_accuracy: 0.8550\n",
            "Epoch 35/100\n",
            "54000/54000 [==============================] - 1s 27us/sample - loss: 0.4049 - accuracy: 0.8603 - val_loss: 0.4225 - val_accuracy: 0.8488\n",
            "Epoch 36/100\n",
            "54000/54000 [==============================] - 1s 25us/sample - loss: 0.4035 - accuracy: 0.8607 - val_loss: 0.4115 - val_accuracy: 0.8542\n",
            "Epoch 37/100\n",
            "54000/54000 [==============================] - 1s 25us/sample - loss: 0.4013 - accuracy: 0.8613 - val_loss: 0.4092 - val_accuracy: 0.8542\n",
            "Epoch 38/100\n",
            "54000/54000 [==============================] - 1s 25us/sample - loss: 0.3996 - accuracy: 0.8624 - val_loss: 0.4104 - val_accuracy: 0.8563\n",
            "Epoch 39/100\n",
            "54000/54000 [==============================] - 1s 24us/sample - loss: 0.3980 - accuracy: 0.8630 - val_loss: 0.4203 - val_accuracy: 0.8515\n",
            "Epoch 40/100\n",
            "54000/54000 [==============================] - 1s 24us/sample - loss: 0.3965 - accuracy: 0.8633 - val_loss: 0.4053 - val_accuracy: 0.8588\n",
            "Epoch 41/100\n",
            "54000/54000 [==============================] - 1s 24us/sample - loss: 0.3948 - accuracy: 0.8638 - val_loss: 0.4088 - val_accuracy: 0.8582\n",
            "Epoch 42/100\n",
            "54000/54000 [==============================] - 1s 24us/sample - loss: 0.3939 - accuracy: 0.8643 - val_loss: 0.4069 - val_accuracy: 0.8582\n",
            "Epoch 43/100\n",
            "54000/54000 [==============================] - 1s 24us/sample - loss: 0.3923 - accuracy: 0.8644 - val_loss: 0.4058 - val_accuracy: 0.8568\n",
            "Epoch 44/100\n",
            "54000/54000 [==============================] - 1s 24us/sample - loss: 0.3909 - accuracy: 0.8649 - val_loss: 0.4053 - val_accuracy: 0.8578\n",
            "Epoch 45/100\n",
            "54000/54000 [==============================] - 1s 24us/sample - loss: 0.3891 - accuracy: 0.8654 - val_loss: 0.4026 - val_accuracy: 0.8565\n",
            "Epoch 46/100\n",
            "54000/54000 [==============================] - 1s 25us/sample - loss: 0.3881 - accuracy: 0.8663 - val_loss: 0.4057 - val_accuracy: 0.8563\n",
            "Epoch 47/100\n",
            "54000/54000 [==============================] - 1s 25us/sample - loss: 0.3867 - accuracy: 0.8667 - val_loss: 0.4004 - val_accuracy: 0.8602\n",
            "Epoch 48/100\n",
            "54000/54000 [==============================] - 1s 24us/sample - loss: 0.3850 - accuracy: 0.8670 - val_loss: 0.3989 - val_accuracy: 0.8615\n",
            "Epoch 49/100\n",
            "54000/54000 [==============================] - 1s 24us/sample - loss: 0.3841 - accuracy: 0.8671 - val_loss: 0.4088 - val_accuracy: 0.8565\n",
            "Epoch 50/100\n",
            "54000/54000 [==============================] - 1s 24us/sample - loss: 0.3831 - accuracy: 0.8669 - val_loss: 0.3993 - val_accuracy: 0.8590\n",
            "Epoch 51/100\n",
            "54000/54000 [==============================] - 1s 25us/sample - loss: 0.3815 - accuracy: 0.8675 - val_loss: 0.3962 - val_accuracy: 0.8602\n",
            "Epoch 52/100\n",
            "54000/54000 [==============================] - 1s 25us/sample - loss: 0.3803 - accuracy: 0.8684 - val_loss: 0.3959 - val_accuracy: 0.8612\n",
            "Epoch 53/100\n",
            "54000/54000 [==============================] - 1s 25us/sample - loss: 0.3793 - accuracy: 0.8692 - val_loss: 0.3923 - val_accuracy: 0.8598\n",
            "Epoch 54/100\n",
            "54000/54000 [==============================] - 1s 25us/sample - loss: 0.3782 - accuracy: 0.8695 - val_loss: 0.3924 - val_accuracy: 0.8570\n",
            "Epoch 55/100\n",
            "54000/54000 [==============================] - 1s 25us/sample - loss: 0.3767 - accuracy: 0.8699 - val_loss: 0.3946 - val_accuracy: 0.8603\n",
            "Epoch 56/100\n",
            "54000/54000 [==============================] - 1s 27us/sample - loss: 0.3760 - accuracy: 0.8703 - val_loss: 0.3897 - val_accuracy: 0.8610\n",
            "Epoch 57/100\n",
            "54000/54000 [==============================] - 1s 27us/sample - loss: 0.3748 - accuracy: 0.8704 - val_loss: 0.3917 - val_accuracy: 0.8633\n",
            "Epoch 58/100\n",
            "54000/54000 [==============================] - 2s 28us/sample - loss: 0.3741 - accuracy: 0.8710 - val_loss: 0.3949 - val_accuracy: 0.8553\n",
            "Epoch 59/100\n",
            "54000/54000 [==============================] - 2s 29us/sample - loss: 0.3730 - accuracy: 0.8716 - val_loss: 0.3878 - val_accuracy: 0.8645\n",
            "Epoch 60/100\n",
            "54000/54000 [==============================] - 1s 27us/sample - loss: 0.3718 - accuracy: 0.8713 - val_loss: 0.3865 - val_accuracy: 0.8622\n",
            "Epoch 61/100\n",
            "54000/54000 [==============================] - 1s 25us/sample - loss: 0.3708 - accuracy: 0.8718 - val_loss: 0.3956 - val_accuracy: 0.8550\n",
            "Epoch 62/100\n",
            "54000/54000 [==============================] - 1s 24us/sample - loss: 0.3699 - accuracy: 0.8717 - val_loss: 0.3894 - val_accuracy: 0.8617\n",
            "Epoch 63/100\n",
            "54000/54000 [==============================] - 1s 25us/sample - loss: 0.3687 - accuracy: 0.8723 - val_loss: 0.3882 - val_accuracy: 0.8585\n",
            "Epoch 64/100\n",
            "54000/54000 [==============================] - 1s 24us/sample - loss: 0.3679 - accuracy: 0.8723 - val_loss: 0.3878 - val_accuracy: 0.8623\n",
            "Epoch 65/100\n",
            "54000/54000 [==============================] - 1s 24us/sample - loss: 0.3672 - accuracy: 0.8728 - val_loss: 0.3846 - val_accuracy: 0.8620\n",
            "Epoch 66/100\n",
            "54000/54000 [==============================] - 1s 24us/sample - loss: 0.3664 - accuracy: 0.8736 - val_loss: 0.3842 - val_accuracy: 0.8640\n",
            "Epoch 67/100\n",
            "54000/54000 [==============================] - 1s 24us/sample - loss: 0.3650 - accuracy: 0.8735 - val_loss: 0.3843 - val_accuracy: 0.8645\n",
            "Epoch 68/100\n",
            "54000/54000 [==============================] - 1s 24us/sample - loss: 0.3645 - accuracy: 0.8733 - val_loss: 0.3850 - val_accuracy: 0.8630\n",
            "Epoch 69/100\n",
            "54000/54000 [==============================] - 1s 24us/sample - loss: 0.3632 - accuracy: 0.8744 - val_loss: 0.3859 - val_accuracy: 0.8640\n",
            "Epoch 70/100\n",
            "54000/54000 [==============================] - 1s 24us/sample - loss: 0.3626 - accuracy: 0.8739 - val_loss: 0.3831 - val_accuracy: 0.8632\n",
            "Epoch 71/100\n",
            "54000/54000 [==============================] - 1s 24us/sample - loss: 0.3618 - accuracy: 0.8745 - val_loss: 0.3852 - val_accuracy: 0.8638\n",
            "Epoch 72/100\n",
            "54000/54000 [==============================] - 1s 25us/sample - loss: 0.3607 - accuracy: 0.8743 - val_loss: 0.3806 - val_accuracy: 0.8650\n",
            "Epoch 73/100\n",
            "54000/54000 [==============================] - 1s 25us/sample - loss: 0.3599 - accuracy: 0.8753 - val_loss: 0.3819 - val_accuracy: 0.8642\n",
            "Epoch 74/100\n",
            "54000/54000 [==============================] - 1s 25us/sample - loss: 0.3596 - accuracy: 0.8756 - val_loss: 0.3824 - val_accuracy: 0.8642\n",
            "Epoch 75/100\n",
            "54000/54000 [==============================] - 1s 25us/sample - loss: 0.3582 - accuracy: 0.8753 - val_loss: 0.3843 - val_accuracy: 0.8613\n",
            "Epoch 76/100\n",
            "54000/54000 [==============================] - 1s 24us/sample - loss: 0.3576 - accuracy: 0.8753 - val_loss: 0.3806 - val_accuracy: 0.8633\n",
            "Epoch 77/100\n",
            "54000/54000 [==============================] - 1s 25us/sample - loss: 0.3569 - accuracy: 0.8764 - val_loss: 0.3812 - val_accuracy: 0.8640\n",
            "Epoch 78/100\n",
            "54000/54000 [==============================] - 1s 24us/sample - loss: 0.3558 - accuracy: 0.8757 - val_loss: 0.3775 - val_accuracy: 0.8632\n",
            "Epoch 79/100\n",
            "54000/54000 [==============================] - 1s 25us/sample - loss: 0.3553 - accuracy: 0.8765 - val_loss: 0.3839 - val_accuracy: 0.8583\n",
            "Epoch 80/100\n",
            "54000/54000 [==============================] - 1s 24us/sample - loss: 0.3546 - accuracy: 0.8768 - val_loss: 0.3810 - val_accuracy: 0.8615\n",
            "Epoch 81/100\n",
            "54000/54000 [==============================] - 1s 25us/sample - loss: 0.3540 - accuracy: 0.8771 - val_loss: 0.3780 - val_accuracy: 0.8660\n",
            "Epoch 82/100\n",
            "54000/54000 [==============================] - 1s 25us/sample - loss: 0.3528 - accuracy: 0.8770 - val_loss: 0.3790 - val_accuracy: 0.8647\n",
            "Epoch 83/100\n",
            "54000/54000 [==============================] - 1s 25us/sample - loss: 0.3525 - accuracy: 0.8771 - val_loss: 0.3773 - val_accuracy: 0.8652\n",
            "Epoch 84/100\n",
            "54000/54000 [==============================] - 1s 24us/sample - loss: 0.3518 - accuracy: 0.8772 - val_loss: 0.3798 - val_accuracy: 0.8648\n",
            "Epoch 85/100\n",
            "54000/54000 [==============================] - 1s 25us/sample - loss: 0.3509 - accuracy: 0.8778 - val_loss: 0.3774 - val_accuracy: 0.8657\n",
            "Epoch 86/100\n",
            "54000/54000 [==============================] - 1s 24us/sample - loss: 0.3504 - accuracy: 0.8778 - val_loss: 0.3797 - val_accuracy: 0.8620\n",
            "Epoch 87/100\n",
            "54000/54000 [==============================] - 1s 24us/sample - loss: 0.3495 - accuracy: 0.8782 - val_loss: 0.3764 - val_accuracy: 0.8653\n",
            "Epoch 88/100\n",
            "54000/54000 [==============================] - 1s 24us/sample - loss: 0.3485 - accuracy: 0.8789 - val_loss: 0.3784 - val_accuracy: 0.8647\n",
            "Epoch 89/100\n",
            "54000/54000 [==============================] - 1s 24us/sample - loss: 0.3479 - accuracy: 0.8781 - val_loss: 0.3759 - val_accuracy: 0.8648\n",
            "Epoch 90/100\n",
            "54000/54000 [==============================] - 1s 24us/sample - loss: 0.3472 - accuracy: 0.8789 - val_loss: 0.3769 - val_accuracy: 0.8657\n",
            "Epoch 91/100\n",
            "54000/54000 [==============================] - 1s 25us/sample - loss: 0.3469 - accuracy: 0.8792 - val_loss: 0.3755 - val_accuracy: 0.8638\n",
            "Epoch 92/100\n",
            "54000/54000 [==============================] - 1s 24us/sample - loss: 0.3460 - accuracy: 0.8797 - val_loss: 0.3740 - val_accuracy: 0.8647\n",
            "Epoch 93/100\n",
            "54000/54000 [==============================] - 1s 24us/sample - loss: 0.3453 - accuracy: 0.8793 - val_loss: 0.3727 - val_accuracy: 0.8648\n",
            "Epoch 94/100\n",
            "54000/54000 [==============================] - 1s 24us/sample - loss: 0.3445 - accuracy: 0.8801 - val_loss: 0.3719 - val_accuracy: 0.8655\n",
            "Epoch 95/100\n",
            "54000/54000 [==============================] - 1s 26us/sample - loss: 0.3440 - accuracy: 0.8799 - val_loss: 0.3765 - val_accuracy: 0.8642\n",
            "Epoch 96/100\n",
            "54000/54000 [==============================] - 1s 24us/sample - loss: 0.3434 - accuracy: 0.8805 - val_loss: 0.3787 - val_accuracy: 0.8633\n",
            "Epoch 97/100\n",
            "54000/54000 [==============================] - 1s 25us/sample - loss: 0.3427 - accuracy: 0.8801 - val_loss: 0.3776 - val_accuracy: 0.8647\n",
            "Epoch 98/100\n",
            "54000/54000 [==============================] - 1s 25us/sample - loss: 0.3420 - accuracy: 0.8805 - val_loss: 0.3741 - val_accuracy: 0.8627\n",
            "Epoch 99/100\n",
            "54000/54000 [==============================] - 1s 24us/sample - loss: 0.3413 - accuracy: 0.8808 - val_loss: 0.3746 - val_accuracy: 0.8672\n"
          ],
          "name": "stdout"
        }
      ]
    },
    {
      "cell_type": "markdown",
      "metadata": {
        "id": "zuEsNw7DoKey",
        "colab_type": "text"
      },
      "source": [
        "Ya entrenado nuestro modelo, procedemos a evaluar su desempeño en el conjunto de imágenes de prueba."
      ]
    },
    {
      "cell_type": "code",
      "metadata": {
        "id": "0RuXsa3VGlwC",
        "colab_type": "code",
        "outputId": "b7546947-8c5c-4fb1-983e-b2e371aeb57d",
        "colab": {
          "base_uri": "https://localhost:8080/",
          "height": 52
        }
      },
      "source": [
        "metricas_prueba = model.evaluate(X_prueba, to_categorical(y_prueba), verbose=0)\n",
        "print(u'Pérdida de prueba:', metricas_prueba[0])\n",
        "print(u'Exactitud de prueba:', metricas_prueba[1])"
      ],
      "execution_count": 12,
      "outputs": [
        {
          "output_type": "stream",
          "text": [
            "Pérdida de prueba: 0.4011519235610962\n",
            "Exactitud de prueba: 0.8574\n"
          ],
          "name": "stdout"
        }
      ]
    },
    {
      "cell_type": "markdown",
      "metadata": {
        "id": "Omqt2_coogEi",
        "colab_type": "text"
      },
      "source": [
        "Finalmente, visualizamos algunos ejemplos de predicciónes hechas por el modelo en el conjunto de prueba."
      ]
    },
    {
      "cell_type": "code",
      "metadata": {
        "id": "NVEeJJMzZ4cA",
        "colab_type": "code",
        "outputId": "25f2b8db-8305-4772-81f3-b681d10f57be",
        "colab": {
          "base_uri": "https://localhost:8080/",
          "height": 269
        }
      },
      "source": [
        "y_hat = model.predict(X_prueba)\n",
        "for i in range(9):\n",
        "    plt.subplot(3, 3, i + 1)\n",
        "    plt.imshow(X_ent[i].reshape(28,28), cmap='Greys')\n",
        "    prediccion = np.argmax(y_hat[i])\n",
        "    plt.text(0, 4, 'P = ' + etiquetas[prediccion], fontsize=10, color = 'red')"
      ],
      "execution_count": 13,
      "outputs": [
        {
          "output_type": "display_data",
          "data": {
            "image/png": "[encoded data removed]",
            "text/plain": [
              "<Figure size 432x288 with 9 Axes>"
            ]
          },
          "metadata": {
            "tags": []
          }
        }
      ]
    }
  ]
}