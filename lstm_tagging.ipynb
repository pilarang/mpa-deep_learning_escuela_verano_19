{
 "cells": [
  {
   "cell_type": "markdown",
   "metadata": {},
   "source": [
    "# LSTM básico para etiquetado de secuencias"
   ]
  },
  {
   "cell_type": "markdown",
   "metadata": {},
   "source": [
    "En este tutorial vamos a explorar la creación de un etiquetador con LSTMs. Vamos a procesar una frase con una etiquetas que llamamos \"partes del habla\" (Part of Speech), lo cuál no es nada mas que etiquetas con funciones gramaticales de cada palabra. \n",
    "\n",
    "Para ello vamos a usar la biblioteca keras, que en tensorflow ya es parte de esta. "
   ]
  },
  {
   "cell_type": "code",
   "execution_count": 17,
   "metadata": {},
   "outputs": [],
   "source": [
    "import tensorflow.keras as keras"
   ]
  },
  {
   "cell_type": "markdown",
   "metadata": {},
   "source": [
    "### Preparar los datos"
   ]
  },
  {
   "cell_type": "markdown",
   "metadata": {},
   "source": [
    "Ahora vamos a importar la base de datos con la que vemos a trabajar. Para ello usamos la biblioteca NLTK."
   ]
  },
  {
   "cell_type": "code",
   "execution_count": 18,
   "metadata": {},
   "outputs": [],
   "source": [
    "import nltk\n",
    "#nltk.download(\"treebank\")\n",
    "#nltk.download(\"universal_tagset\")"
   ]
  },
  {
   "cell_type": "markdown",
   "metadata": {},
   "source": [
    "Ahora que ya tenemos instalados los datos vamos a cargar los datos a nuestro programa. Para poder ver los datos y entender su funcionamiento imprimiremos los mismos."
   ]
  },
  {
   "cell_type": "code",
   "execution_count": 19,
   "metadata": {},
   "outputs": [
    {
     "name": "stdout",
     "output_type": "stream",
     "text": [
      "[('Pierre', 'NOUN'), ('Vinken', 'NOUN'), (',', '.'), ('61', 'NUM'), ('years', 'NOUN'), ('old', 'ADJ'), (',', '.'), ('will', 'VERB'), ('join', 'VERB'), ('the', 'DET'), ('board', 'NOUN'), ('as', 'ADP'), ('a', 'DET'), ('nonexecutive', 'ADJ'), ('director', 'NOUN'), ('Nov.', 'NOUN'), ('29', 'NUM'), ('.', '.')]\n"
     ]
    }
   ],
   "source": [
    "from nltk.corpus import treebank\n",
    "\n",
    "sentences = treebank.tagged_sents(tagset=\"universal\")\n",
    "print(sentences[0])"
   ]
  },
  {
   "cell_type": "markdown",
   "metadata": {},
   "source": [
    "Ahora vamos a separar las palabras de los tags."
   ]
  },
  {
   "cell_type": "code",
   "execution_count": 20,
   "metadata": {},
   "outputs": [],
   "source": [
    "sentences_data = list()\n",
    "tags_data = list()\n",
    "\n",
    "# Separando tags de palabras\n",
    "for sentence in sentences:\n",
    "    s, t = zip(*sentence)\n",
    "    sentences_data.append(s)\n",
    "    tags_data.append(t)\n",
    "    \n"
   ]
  },
  {
   "cell_type": "markdown",
   "metadata": {},
   "source": [
    "Para separar los datos vamos a usar la biblioteca sklearn.  Lo vamos a hacer en tres partes. Uno para entrenar el modelo, otro para ajustar nuestros hiperparámetros y un último para probar nuestro modelo.Esta nos permite realizar la operación de manera automática."
   ]
  },
  {
   "cell_type": "code",
   "execution_count": 21,
   "metadata": {},
   "outputs": [],
   "source": [
    "from sklearn.model_selection import train_test_split\n",
    "\n",
    "# Dividir los datos en tres conjuntos: train, dev y test\n",
    "\n",
    "train_sent, test_sent, train_tags, test_tags = train_test_split(sentences_data, tags_data, test_size=0.2)\n",
    "train_sent, dev_sent, train_tags, dev_tags = train_test_split(train_sent, train_tags, test_size=0.1)\n",
    "\n",
    "\n",
    "# Hacer una lista de todos los tags y de todas las palabras vistas en el conjunto de entrenamiento\n",
    "\n",
    "uniq_tags = list()\n",
    "uniq_words = list()\n",
    "\n",
    "for sent,tags in zip(train_sent, train_tags):\n",
    "    for word, tag in zip(sent, tags):\n",
    "        uniq_tags.append(tag)\n",
    "        uniq_words.append(word)\n",
    "\n",
    "uniq_tags = list(set(uniq_tags))\n",
    "uniq_words = list(set(uniq_words))\n",
    "    \n"
   ]
  },
  {
   "cell_type": "markdown",
   "metadata": {},
   "source": [
    "Una vez que tenemos el dataset partido debidamente vamos a comprobar que sean del tamaño deseado y que contengan lo que esperamos."
   ]
  },
  {
   "cell_type": "code",
   "execution_count": 22,
   "metadata": {},
   "outputs": [
    {
     "name": "stdout",
     "output_type": "stream",
     "text": [
      "Train len: 2817 Dev len 314 Test len 783\n",
      "('Stephen', 'Salmore', ',', 'a', 'political', 'scientist', 'at', 'New', 'Jersey', \"'s\", 'Eagleton', 'Institute', ',', 'says', '0', 'it', \"'s\", 'another', 'example', 'of', 'an', 'ad', 'that', '*T*-1', \"'s\", 'true', 'but', 'not', 'fully', 'accurate', '.')\n",
      "('NOUN', 'NOUN', '.', 'DET', 'ADJ', 'NOUN', 'ADP', 'NOUN', 'NOUN', 'PRT', 'NOUN', 'NOUN', '.', 'VERB', 'X', 'PRON', 'VERB', 'DET', 'NOUN', 'ADP', 'DET', 'NOUN', 'DET', 'X', 'VERB', 'ADJ', 'CONJ', 'ADV', 'ADV', 'ADJ', '.')\n"
     ]
    }
   ],
   "source": [
    "print(\"Train len:\", len(train_sent), \"Dev len\", len(dev_sent), \"Test len\", len(test_sent))\n",
    "print(train_sent[0])\n",
    "print(train_tags[0])"
   ]
  },
  {
   "cell_type": "markdown",
   "metadata": {},
   "source": [
    "Una vez teniendo separados nuestros datasets, es tiempo de convertir los en números enteros, lo cuál nos va a permitir trabajar con ellos en una red neronal. "
   ]
  },
  {
   "cell_type": "code",
   "execution_count": 23,
   "metadata": {},
   "outputs": [
    {
     "name": "stdout",
     "output_type": "stream",
     "text": [
      "{'PAD': 0, 'OOV': 1, 'BOS': 2, 'EOS': 3, 'NOUN': 4, '.': 5, 'DET': 6, 'ADJ': 7, 'ADP': 8, 'PRT': 9, 'VERB': 10, 'X': 11, 'PRON': 12, 'CONJ': 13, 'ADV': 14, 'NUM': 15}\n",
      "{0: 'PAD', 1: 'OOV', 2: 'BOS', 3: 'EOS', 4: 'NOUN', 5: '.', 6: 'DET', 7: 'ADJ', 8: 'ADP', 9: 'PRT', 10: 'VERB', 11: 'X', 12: 'PRON', 13: 'CONJ', 14: 'ADV', 15: 'NUM'}\n"
     ]
    }
   ],
   "source": [
    "\n",
    "word_to_indx = {\"PAD\":0,\"OOV\":1, \"BOS\":2, \"EOS\":3}\n",
    "indx_to_word = {0:\"PAD\",1:\"OOV\", 2:\"BOS\", 3:\"EOS\"}\n",
    "\n",
    "\n",
    "tag_to_indx = {\"PAD\":0, \"OOV\":1, \"BOS\":2, \"EOS\":3}\n",
    "indx_to_tag = {0:\"PAD\", 1:\"OOV\", 2:\"BOS\", 3:\"EOS\"}\n",
    "\n",
    "for line in train_sent:\n",
    "    for word in line:\n",
    "        if not word in word_to_indx.keys():\n",
    "            word_to_indx[word] = len(word_to_indx)\n",
    "            indx_to_word[len(word_to_indx)-1] = word\n",
    "    \n",
    "for line in train_tags:\n",
    "    for tag in line:\n",
    "        if not tag in tag_to_indx.keys():\n",
    "            tag_to_indx[tag] = len(tag_to_indx)\n",
    "            indx_to_tag[len(tag_to_indx)-1] = tag\n",
    "\n",
    "print(tag_to_indx)\n",
    "print(indx_to_tag)"
   ]
  },
  {
   "cell_type": "markdown",
   "metadata": {},
   "source": [
    "Es hora de convertir todas las frases en valores enteros. Esto lo realizaremos con nuestros índices que creamos arriba."
   ]
  },
  {
   "cell_type": "code",
   "execution_count": 24,
   "metadata": {},
   "outputs": [],
   "source": [
    "def sent_to_int(sent):\n",
    "    int_sent = list()\n",
    "    for word in sent:\n",
    "        if word in word_to_indx.keys():\n",
    "            int_sent.append(word_to_indx[word])\n",
    "        else:\n",
    "            int_sent.append(word_to_indx[\"OOV\"])\n",
    "    return int_sent\n",
    "\n",
    "def tag_to_int(sent):\n",
    "    int_sent = list()\n",
    "    for tag in sent:\n",
    "        if tag in tag_to_indx.keys():\n",
    "            int_sent.append(tag_to_indx[tag])\n",
    "        else:\n",
    "            int_sent.append(tag_to_indx[\"OOV\"])\n",
    "    return int_sent\n",
    "\n",
    "train_X, dev_X, train_Y, dev_Y, test_X, test_Y = list(), list(), list(), list(), list(), list()\n",
    "\n",
    "for lineX, lineY in zip(train_sent, train_tags):\n",
    "    train_X.append(sent_to_int(lineX))\n",
    "    train_Y.append(tag_to_int(lineY))\n",
    "\n",
    "for lineX, lineY in zip(dev_sent, dev_tags):\n",
    "    dev_X.append(sent_to_int(lineX))\n",
    "    dev_Y.append(tag_to_int(lineY))\n",
    "\n",
    "for lineX, lineY in zip(test_sent, test_tags):\n",
    "    test_X.append(sent_to_int(lineX))\n",
    "    test_Y.append(tag_to_int(lineY))"
   ]
  },
  {
   "cell_type": "markdown",
   "metadata": {},
   "source": [
    "Para poder trabajar con datos secuenciales desde keras, será necesario que todas las frases tengan el mismo tamaño. Para ello vamos a llenar los espacios vacíos de cada frase con un símbolo de PAD. Este valor es 0, y está acorde a lo que definimos anteriormente."
   ]
  },
  {
   "cell_type": "code",
   "execution_count": 25,
   "metadata": {},
   "outputs": [
    {
     "name": "stdout",
     "output_type": "stream",
     "text": [
      "2817\n",
      "128\n",
      "[ 4  5  6  7  8  9 10 11 12 13 14 15  6 16 17 18 13 19 20 21 22 23 24 25\n",
      " 13 26 27 28 29 30 31  0  0  0  0  0  0  0  0  0  0  0  0  0  0  0  0  0\n",
      "  0  0  0  0  0  0  0  0  0  0  0  0  0  0  0  0  0  0  0  0  0  0  0  0\n",
      "  0  0  0  0  0  0  0  0  0  0  0  0  0  0  0  0  0  0  0  0  0  0  0  0\n",
      "  0  0  0  0  0  0  0  0  0  0  0  0  0  0  0  0  0  0  0  0  0  0  0  0\n",
      "  0  0  0  0  0  0  0  0]\n"
     ]
    }
   ],
   "source": [
    "from tensorflow.keras.preprocessing.sequence import pad_sequences\n",
    "\n",
    "MAX_LENGTH = len(max(train_X, key=len))\n",
    "train_X = pad_sequences(maxlen=MAX_LENGTH, sequences=train_X, padding=\"post\")\n",
    "train_Y = pad_sequences(maxlen=MAX_LENGTH, sequences=train_Y, padding=\"post\")\n",
    "dev_X = pad_sequences(maxlen=MAX_LENGTH, sequences=dev_X, padding=\"post\")\n",
    "dev_Y = pad_sequences(maxlen=MAX_LENGTH, sequences=dev_Y, padding=\"post\")\n",
    "test_X = pad_sequences(maxlen=MAX_LENGTH, sequences=test_X, padding=\"post\")\n",
    "test_Y = pad_sequences(maxlen=MAX_LENGTH, sequences=test_Y, padding=\"post\")\n",
    "\n",
    "print(len(train_Y))\n",
    "print(len(train_X[0]))\n",
    "print(train_X[0])"
   ]
  },
  {
   "cell_type": "markdown",
   "metadata": {},
   "source": [
    "Las salidas de cada etiqueta es categórica. Por lo que debemos de ajustar los datos de todas las Y a valores categógicos."
   ]
  },
  {
   "cell_type": "code",
   "execution_count": 26,
   "metadata": {},
   "outputs": [
    {
     "name": "stdout",
     "output_type": "stream",
     "text": [
      "16\n",
      "2817\n",
      "128\n",
      "16\n",
      "[[0. 0. 0. ... 0. 0. 0.]\n",
      " [0. 0. 0. ... 0. 0. 0.]\n",
      " [0. 0. 0. ... 0. 0. 0.]\n",
      " ...\n",
      " [1. 0. 0. ... 0. 0. 0.]\n",
      " [1. 0. 0. ... 0. 0. 0.]\n",
      " [1. 0. 0. ... 0. 0. 0.]]\n"
     ]
    }
   ],
   "source": [
    "from tensorflow.keras.utils import to_categorical\n",
    "\n",
    "train_cat_Y = [to_categorical(i, num_classes=len(tag_to_indx)) for i in train_Y]\n",
    "dev_cat_Y = [to_categorical(i, num_classes=len(tag_to_indx)) for i in dev_Y]\n",
    "test_cat_Y = [to_categorical(i, num_classes=len(tag_to_indx)) for i in test_Y]\n",
    "\n",
    "print(len(tag_to_indx))\n",
    "print(len(train_cat_Y))\n",
    "print(len(train_cat_Y[0]))\n",
    "print(len(train_cat_Y[0][0]))\n",
    "print(train_cat_Y[0])"
   ]
  },
  {
   "cell_type": "markdown",
   "metadata": {},
   "source": [
    "### Definir el modelo LSTM"
   ]
  },
  {
   "cell_type": "markdown",
   "metadata": {},
   "source": [
    "Es hora de definir el modelo y generar los embeddings para que nuestros datos puedan ser usados en la red neuronal."
   ]
  },
  {
   "cell_type": "code",
   "execution_count": null,
   "metadata": {},
   "outputs": [],
   "source": [
    "from tensorflow.keras.models import Model\n",
    "from tensorflow.keras.layers import LSTM, Embedding, Dense, TimeDistributed, Dropout, Bidirectional\n",
    "\n",
    "\n",
    "input = keras.Input(shape=(MAX_LENGTH,))\n",
    "model = Embedding(input_dim=len(word_to_indx), output_dim=50, input_length=MAX_LENGTH)(input)\n",
    "model = Dropout(0.1)(model)\n",
    "model = Bidirectional(LSTM(units=100, return_sequences=True, recurrent_dropout=0.1))(model)\n",
    "out = TimeDistributed(Dense(len(tag_to_indx), activation=\"softmax\"))(model)  # softmax output layer"
   ]
  },
  {
   "cell_type": "code",
   "execution_count": 28,
   "metadata": {},
   "outputs": [],
   "source": [
    "model = Model(input, out)"
   ]
  },
  {
   "cell_type": "code",
   "execution_count": 30,
   "metadata": {},
   "outputs": [],
   "source": [
    "model.compile(optimizer=\"rmsprop\", loss=\"categorical_crossentropy\", metrics=[\"accuracy\"])"
   ]
  },
  {
   "cell_type": "code",
   "execution_count": 32,
   "metadata": {},
   "outputs": [
    {
     "name": "stdout",
     "output_type": "stream",
     "text": [
      "128 2817\n",
      "128 2817\n",
      "Train on 2817 samples, validate on 314 samples\n",
      "Epoch 1/5\n",
      "2817/2817 [==============================] - 127s 45ms/sample - loss: 0.6060 - acc: 0.8329 - val_loss: 0.4340 - val_acc: 0.8594\n",
      "Epoch 2/5\n",
      "2817/2817 [==============================] - 131s 47ms/sample - loss: 0.3837 - acc: 0.8769 - val_loss: 0.2798 - val_acc: 0.9214\n",
      "Epoch 3/5\n",
      "2817/2817 [==============================] - 138s 49ms/sample - loss: 0.1897 - acc: 0.9466 - val_loss: 0.1225 - val_acc: 0.9624\n",
      "Epoch 4/5\n",
      "2817/2817 [==============================] - 152s 54ms/sample - loss: 0.0832 - acc: 0.9759 - val_loss: 0.0684 - val_acc: 0.9791\n",
      "Epoch 5/5\n",
      "2817/2817 [==============================] - 141s 50ms/sample - loss: 0.0443 - acc: 0.9879 - val_loss: 0.0456 - val_acc: 0.9873\n"
     ]
    }
   ],
   "source": [
    "import numpy as np\n",
    "print(len(train_X[0]), len(train_X))\n",
    "print(len(train_cat_Y[0]), len(train_cat_Y))\n",
    "\n",
    "history = model.fit(train_X, np.array(train_cat_Y), batch_size=32, epochs=5, validation_data=[dev_X, np.array(dev_cat_Y)], verbose=1)"
   ]
  },
  {
   "cell_type": "markdown",
   "metadata": {},
   "source": [
    "# Resultados"
   ]
  },
  {
   "cell_type": "markdown",
   "metadata": {},
   "source": [
    "Veamos como se comportó nuestro modelo a travéz de las épocas de entrenamiento. Vemos tanto el accuracy sobre el conjunto de entrenamiento, así como también sobre el conjunto de validación."
   ]
  },
  {
   "cell_type": "code",
   "execution_count": 34,
   "metadata": {},
   "outputs": [
    {
     "data": {
      "image/png": "[encoded data removed]",
      "text/plain": [
       "<Figure size 864x864 with 1 Axes>"
      ]
     },
     "metadata": {
      "needs_background": "light"
     },
     "output_type": "display_data"
    }
   ],
   "source": [
    "import pandas as pd\n",
    "import matplotlib.pyplot as plt\n",
    "\n",
    "hist = pd.DataFrame(history.history)\n",
    "plt.figure(figsize=(12,12))\n",
    "plt.plot(hist[\"accuracy\"])\n",
    "plt.plot(hist[\"val_accuracy\"])\n",
    "plt.show()"
   ]
  },
  {
   "cell_type": "markdown",
   "metadata": {},
   "source": [
    "Por último guardamos el modelo."
   ]
  },
  {
   "cell_type": "code",
   "execution_count": 35,
   "metadata": {},
   "outputs": [],
   "source": [
    "model.save(\"Models/pos_tagging.h5\")"
   ]
  },
  {
   "cell_type": "markdown",
   "metadata": {},
   "source": [
    "## Ejercicios"
   ]
  },
  {
   "cell_type": "markdown",
   "metadata": {},
   "source": [
    "Cómo hemos visto las LSTM son muy poderosas para lograr procesar datos secuenciales. En este ejemplo vimos cómo inferir una clase por cada ejemplo de entrada y lo aplicamos para analizar la gramática de un enunciado.\n",
    "\n",
    "El ejemplo que mostramos es clásico, pero: ¿Qué otras aplicaciones puede tener este tipo de clasificación?\n",
    "\n",
    "* Encuentre otra aplicación y una base de datos para este modelo y utilicela para relizar predicciones."
   ]
  },
  {
   "cell_type": "code",
   "execution_count": null,
   "metadata": {},
   "outputs": [],
   "source": []
  }
 ],
 "metadata": {
  "kernelspec": {
   "display_name": "Python 3",
   "language": "python",
   "name": "python3"
  },
  "language_info": {
   "codemirror_mode": {
    "name": "ipython",
    "version": 3
   },
   "file_extension": ".py",
   "mimetype": "text/x-python",
   "name": "python",
   "nbconvert_exporter": "python",
   "pygments_lexer": "ipython3",
   "version": "3.7.3"
  }
 },
 "nbformat": 4,
 "nbformat_minor": 2
}
