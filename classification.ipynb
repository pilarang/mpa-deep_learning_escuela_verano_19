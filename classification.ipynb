{
 "cells": [
  {
   "cell_type": "markdown",
   "metadata": {},
   "source": [
    "# Redes neuronales para clasificación de secuencias"
   ]
  },
  {
   "cell_type": "markdown",
   "metadata": {},
   "source": [
    "Ahora veremos cómo podemos, a partir de una secuencia de datos, inferir a qué clase pertenecen. Para esta tarea vamos a usar nuevamente un RNN del tipo LSTM, pero esta vez con una sola salida.\n",
    "\n",
    "La tarea que vamos a tener es la siguiente: a partir de menus que proporcionan los restaurantes, clasificar estos restaurantes en una categoría de precios. Vamos a tener cuatro categorías de prcios, donde 1 son los restaurantes más baratos, mientras que 4 son los más caros. "
   ]
  },
  {
   "cell_type": "markdown",
   "metadata": {},
   "source": [
    "## Cargar las bibliotecas necesarias"
   ]
  },
  {
   "cell_type": "code",
   "execution_count": 23,
   "metadata": {},
   "outputs": [],
   "source": [
    "import json\n",
    "\n",
    "from tensorflow.keras.preprocessing.sequence import pad_sequences\n",
    "from tensorflow.keras.models import Model\n",
    "from tensorflow.keras.utils import to_categorical\n",
    "from tensorflow.keras.layers import Dense, Dropout, LSTM, Embedding, Activation, SpatialDropout1D\n",
    "from tensorflow.keras import Input, Sequential\n",
    "from tensorflow.keras.callbacks import EarlyStopping, ModelCheckpoint\n",
    "from tensorflow.keras import optimizers\n",
    "\n",
    "import numpy as np\n",
    "import pandas as pd\n",
    "import matplotlib.pyplot as plt"
   ]
  },
  {
   "cell_type": "markdown",
   "metadata": {},
   "source": [
    "## Preparar los datos"
   ]
  },
  {
   "cell_type": "markdown",
   "metadata": {},
   "source": [
    "Como hemos visto en el ejercicio pasado, debemos cargar los datos. Además será necesario ver cómo su organización "
   ]
  },
  {
   "cell_type": "code",
   "execution_count": 2,
   "metadata": {},
   "outputs": [
    {
     "name": "stdout",
     "output_type": "stream",
     "text": [
      "{'rating': '$$', 'name': 'Bin38', 'type': 'american (new)', 'location': 'sf', 'menu': ['bin frittata artisan ham swiss cheese potatoes mixed greens', 'sweet corn fritters wildflower honey whipped butter', 'strawberry eclairs white chocolate mousse hazelnuts', 'grilled cheese on whole wheat fontina smoked mozzarella oven roasted tomatoes arugula basil mayo', 'beef brisket panini fontina oven roasted tomatoes arugula horseradish sauce items marked with served before pm', 'hot beef brisket sandwich creamy horseradish sauce slaw french fries', 'roasted wild mushroom panini fromage blanc gypsy peppers creamy smoked pepper dip', 'house made chicken sausage grilled summer squash basil pesto', 'bacon wrapped sea scallops summer melon herb salad balsamic', 'american artisan cheeses small house made crackers fruit and condiments items marked with served before pm', 'warm marinated olives items marked with served before pm', 'wild mushroom gypsy pepper panini fromage blanc creamy smoked pepper dip items marked with served before pm', 'grilled summer squash goat cheese basil pesto breadcrumbs', 'lemon pound cake organic blackberries', 'fennel rubbed roasted pork swiss panini whole grain mustard pickles', 'house made duck sausage potato fig salad whole grain mustard', 'country pork spareribs peach jalape o barbeque sauce', 'heirloom tomatoes cucumbers goat cheese arugula red wine vinaigrette', 'bin mixed nuts items marked with served before pm', 'little green salad nectarines fresh ricotta sunflower seeds sauvignon blanc vinaigrette items marked with served before pm', 'american artisan cheeses large house made crackers fruit and condiments items marked with served before pm', 'old fashioned chocolate pudding whipped cream shortbread cookies', 'washugyu kobe flank steak roasted gypsy peppers onions herb butter', 'steamed mussels early girl tomato sauce basil chili oil grilled croutons', 'lamb meatballs eggplant salad green tomato sauce', 'french fries cucumber yogurt dip herb mayonnaise heinz items marked with served before pm', 'grilled chicken salad avocado corn cherry tomato organic little gem lettuce buttermilk dressing', 'grilled eggplant cherry tomatoes fennel meyer lemon oil grilled bread', 'avocado corn cherry tomato salad organic little gem lettuce buttermilk dressing', 'baked feta feta strawberry onion jam crostini items marked with served before pm', 'washington mussels early girl tomato sauce basil chili oil grilled croutons', 'grilled albacore tuna fresh shell beans marinated green beans spicy cayenne pepper sauce', 'french fries cucumber yogurt dip spicy avocado puree heinz']}\n",
      "4860\n",
      "607\n"
     ]
    }
   ],
   "source": [
    "train_set = list()\n",
    "dev_set = list()\n",
    "\n",
    "with open(\"../data/trainset.json\") as F:\n",
    "    for line in F:\n",
    "        train_set.append(json.loads(line))\n",
    "with open(\"../data/devset.json\") as F:\n",
    "    for line in F:\n",
    "        dev_set.append(json.loads(line))\n",
    "\n",
    "print(train_set[1])\n",
    "print(len(train_set))\n",
    "print(len(dev_set))"
   ]
  },
  {
   "cell_type": "code",
   "execution_count": 3,
   "metadata": {},
   "outputs": [
    {
     "name": "stdout",
     "output_type": "stream",
     "text": [
      "['squid', 'tofu', 'lunch', 'cooked', 'squid', 'tofu', 'vegetables', 'with', 'seasoned', 'soy', 'sauce', '.', 'edamame', 'broiled', 'green', 'soybeans', '.', 'hotate', 'scallop', '.', 'oyako', 'don', 'dinner', 'chicken', 'vegetables', 'and', 'egg', 'cooked', 'with', 'sweet']\n",
      "1\n",
      "44090\n"
     ]
    }
   ],
   "source": [
    "train_ratings = list()\n",
    "train_menus = list()\n",
    "\n",
    "dev_ratings = list()\n",
    "dev_menus = list()\n",
    "\n",
    "dictionary = list()\n",
    "rating_labels = list()\n",
    "\n",
    "for restaurant in train_set:\n",
    "    menu = \" . \".join(restaurant[\"menu\"]).split()\n",
    "    train_menus.append(menu)\n",
    "    train_ratings.append(len(restaurant[\"rating\"])-1)\n",
    "    dictionary += menu\n",
    "\n",
    "for restaurant in dev_set:\n",
    "    menu = \" . \".join(restaurant[\"menu\"]).split()\n",
    "    dev_menus.append(menu)\n",
    "    dev_ratings.append(len(restaurant[\"rating\"])-1)\n",
    "\n",
    "dictionary = list(set(dictionary))\n",
    "print(train_menus[0][:30])\n",
    "print(train_ratings[0])\n",
    "print(len(dictionary))\n"
   ]
  },
  {
   "cell_type": "markdown",
   "metadata": {},
   "source": [
    "Ahora nuevamente convertiremos todas las palabras en enteros y los rankings a varables categóricas"
   ]
  },
  {
   "cell_type": "code",
   "execution_count": 5,
   "metadata": {},
   "outputs": [
    {
     "name": "stdout",
     "output_type": "stream",
     "text": [
      "[4903, 15682, 26843, 3882, 16306, 12628, 42022, 21190, 24219, 16049, 38922, 28898, 43750, 13101, 14475, 30413, 20431, 16049, 14753, 32559, 34564, 8946, 36535, 7599, 16049, 11846, 12628, 34234, 39138, 32086, 23838, 30379, 4047, 36785, 35049, 32009, 15311, 16832, 270, 16049, 16718, 21119, 22057, 23838, 36785, 35049, 32009, 15311, 7268, 16700, 13511, 40071, 27030, 4625, 11240, 12707, 16049, 17237, 16718, 21119, 23652, 6397, 7268, 16700, 8179, 5259, 16992, 16049, 35049, 18407, 1825, 22057, 30288, 7283, 39181, 4313, 6397, 30379, 40291, 18445, 16049, 38227, 30685, 36893, 32642, 11846, 11445, 23405, 16832, 42803, 16049, 16973, 41524, 310, 41274, 11445, 7741, 18926, 20118, 10556, 16049, 10302, 26843, 26261, 19809, 38227, 30685, 844, 16740, 12152, 20160, 13511, 40071, 27030, 4625, 11240, 12707, 16049, 7953, 2116, 42744, 13511, 40071, 27030, 4625, 11240, 12707, 16049, 18407, 1825, 39181, 40291, 22057, 30288, 7283, 6397, 30379, 40291, 18445, 13511, 40071, 27030, 4625, 11240, 12707, 16049, 11846, 11445, 23405, 16946, 12628, 16832, 42803, 11922, 16049, 40173, 31291, 4228, 23549, 34553, 16049, 42083, 36297, 35049, 18109, 16306, 22057, 39138, 40268, 43044, 31508, 16049, 38227, 30685, 35637, 32642, 16735, 35471, 20118, 39138, 40268, 43044, 16049, 8534, 18109, 827, 41424, 35795, 32742, 19402, 16700, 16049, 18504, 32009, 17005, 16946, 12628, 15311, 9280, 12729, 34534, 16049, 4903, 21190, 23691, 13511, 40071, 27030, 4625, 11240, 12707, 16049, 28753, 36999, 20118, 39347, 12107, 24888, 16875, 37348, 15649, 7283, 34534, 13511, 40071, 27030, 4625, 11240, 12707, 16049, 10302, 26843, 26261, 12395, 38227, 30685, 844, 16740, 12152, 20160, 13511, 40071, 27030, 4625, 11240, 12707, 16049, 42111, 43760, 8946, 41571, 30413, 5203, 7533, 39187, 16049, 43717, 38026, 7681, 6918, 35049, 39181, 4313, 22450, 18926, 20431, 16049, 7960, 44056, 8926, 31799, 27310, 16700, 16832, 35555, 32396, 11846, 7999, 16049, 34323, 1140, 37261, 20118, 36999, 27310, 16700, 16049, 5259, 16992, 2759, 23929, 18445, 18926, 44068, 5091, 13511, 40071, 27030, 4625, 11240, 12707, 16049, 11846, 36893, 20118, 23514, 28898, 41415, 27310, 23549, 28753, 19667, 12694, 8781, 43789, 16049, 11846, 37261, 41415, 32009, 42083, 26562, 40173, 32396, 11846, 13348, 16049, 23514, 28898, 41415, 27310, 20118, 23549, 28753, 19667, 12694, 8781, 43789, 16049, 32658, 756, 756, 14753, 37938, 16231, 11833, 13511, 40071, 27030, 4625, 11240, 12707, 16049, 29960, 44056, 8926, 31799, 27310, 16700, 16832, 35555, 32396, 11846, 7999, 16049, 11846, 18411, 43186, 12107, 29774, 2163, 2116, 36999, 2163, 5151, 14728, 40291, 16700, 16049, 5259, 16992, 2759, 23929, 18445, 5151, 23514, 27165, 5091]\n",
      "[0. 1. 0. 0.]\n"
     ]
    }
   ],
   "source": [
    "word_to_index = {\"PAD\":0,\"OOV\":1, \"BOS\":2, \"EOS\":3}\n",
    "for word in dictionary:\n",
    "    word_to_index[word] = len(word_to_index)\n",
    "\n",
    "def sent_to_int(sent):\n",
    "    int_sent = list()\n",
    "    for word in sent:\n",
    "        if word in word_to_index.keys():\n",
    "            int_sent.append(word_to_index[word])\n",
    "        else:\n",
    "            int_sent.append(word_to_index[\"OOV\"])\n",
    "    return int_sent\n",
    "\n",
    "train_X, dev_X, train_Y, dev_Y = list(), list(), list(), list()\n",
    "\n",
    "for lineX, lineY in zip(train_menus, train_ratings):\n",
    "    train_X.append(sent_to_int(lineX))\n",
    "    train_Y.append(to_categorical(lineY, num_classes=4))\n",
    "\n",
    "for lineX, lineY in zip(dev_menus, dev_ratings):\n",
    "    dev_X.append(sent_to_int(lineX))\n",
    "    dev_Y.append(to_categorical(lineY, num_classes=4))\n",
    "    \n",
    "train_Y = np.asarray(train_Y)\n",
    "dev_Y = np.asarray(dev_Y)\n",
    "\n",
    "print(train_X[1])\n",
    "print(train_Y[1])"
   ]
  },
  {
   "cell_type": "markdown",
   "metadata": {},
   "source": [
    "Limitaremos el tamaño de las entradas a 200 palabras, dada la gran variabilidad de los menus encontrados."
   ]
  },
  {
   "cell_type": "code",
   "execution_count": 6,
   "metadata": {},
   "outputs": [
    {
     "name": "stdout",
     "output_type": "stream",
     "text": [
      "[16832 42803 16049 16973 41524   310 41274 11445  7741 18926 20118 10556\n",
      " 16049 10302 26843 26261 19809 38227 30685   844 16740 12152 20160 13511\n",
      " 40071 27030  4625 11240 12707 16049  7953  2116 42744 13511 40071 27030\n",
      "  4625 11240 12707 16049 18407  1825 39181 40291 22057 30288  7283  6397\n",
      " 30379 40291 18445 13511 40071 27030  4625 11240 12707 16049 11846 11445\n",
      " 23405 16946 12628 16832 42803 11922 16049 40173 31291  4228 23549 34553\n",
      " 16049 42083 36297 35049 18109 16306 22057 39138 40268 43044 31508 16049\n",
      " 38227 30685 35637 32642 16735 35471 20118 39138 40268 43044 16049  8534\n",
      " 18109   827 41424 35795 32742 19402 16700 16049 18504 32009 17005 16946\n",
      " 12628 15311  9280 12729 34534 16049  4903 21190 23691 13511 40071 27030\n",
      "  4625 11240 12707 16049 28753 36999 20118 39347 12107 24888 16875 37348\n",
      " 15649  7283 34534 13511 40071 27030  4625 11240 12707 16049 10302 26843\n",
      " 26261 12395 38227 30685   844 16740 12152 20160 13511 40071 27030  4625\n",
      " 11240 12707 16049 42111 43760  8946 41571 30413  5203  7533 39187 16049\n",
      " 43717 38026  7681  6918 35049 39181  4313 22450 18926 20431 16049  7960\n",
      " 44056  8926 31799 27310 16700 16832 35555 32396 11846  7999 16049 34323\n",
      "  1140 37261 20118 36999 27310 16700 16049  5259 16992  2759 23929 18445\n",
      " 18926 44068  5091 13511 40071 27030  4625 11240 12707 16049 11846 36893\n",
      " 20118 23514 28898 41415 27310 23549 28753 19667 12694  8781 43789 16049\n",
      " 11846 37261 41415 32009 42083 26562 40173 32396 11846 13348 16049 23514\n",
      " 28898 41415 27310 20118 23549 28753 19667 12694  8781 43789 16049 32658\n",
      "   756   756 14753 37938 16231 11833 13511 40071 27030  4625 11240 12707\n",
      " 16049 29960 44056  8926 31799 27310 16700 16832 35555 32396 11846  7999\n",
      " 16049 11846 18411 43186 12107 29774  2163  2116 36999  2163  5151 14728\n",
      " 40291 16700 16049  5259 16992  2759 23929 18445  5151 23514 27165  5091]\n"
     ]
    }
   ],
   "source": [
    "MAX_LENGTH = 300\n",
    "train_X = pad_sequences(maxlen=MAX_LENGTH, sequences=train_X, padding=\"post\")\n",
    "dev_X = pad_sequences(maxlen=MAX_LENGTH, sequences=dev_X, padding=\"post\")\n",
    "\n",
    "print(train_X[1])\n"
   ]
  },
  {
   "cell_type": "markdown",
   "metadata": {},
   "source": [
    "## Definir el modelo y entrenar con LSTM"
   ]
  },
  {
   "cell_type": "markdown",
   "metadata": {},
   "source": [
    "Ahora definimos nuestra red. Veamamos ahora que configuraremos algunos hyperparámetros adicionales en el optimizador, ademas de usar Adam esta vez."
   ]
  },
  {
   "cell_type": "code",
   "execution_count": 25,
   "metadata": {},
   "outputs": [],
   "source": [
    "EMBEDDING_SIZE = 50\n",
    "EPOCHS = 50\n",
    "BATCH_SIZE = 32\n",
    "HIDDEN_LAYER_SIZE = 200\n",
    "DROPOUT = 0.2\n",
    "\n",
    "model = Sequential()\n",
    "model.add(Embedding(len(word_to_index), EMBEDDING_SIZE, input_length=MAX_LENGTH))\n",
    "model.add(SpatialDropout1D(DROPOUT))\n",
    "model.add(LSTM(HIDDEN_LAYER_SIZE, dropout=DROPOUT, recurrent_dropout=DROPOUT))\n",
    "model.add(Dense(4))\n",
    "model.add(Activation(\"sigmoid\"))\n",
    "\n",
    "adam = optimizers.Adam(lr=0.001, beta_1=0.9, beta_2=0.999, epsilon=None, decay=0.0, amsgrad=False)\n",
    "model.compile(loss=\"categorical_crossentropy\", optimizer=adam, metrics=[\"accuracy\",])"
   ]
  },
  {
   "cell_type": "markdown",
   "metadata": {},
   "source": [
    "Y la entrenamos. Dado que el entrenamiento será largo, vamos a utilizar una opción llamada parada temprana o early stopping. Básicamente lo que hace es parar el entrenamiento cuando no se logre mejorar el costo en un cierto periodo de épocas. Ese periodo de épocas es llamado paciencia (patience)."
   ]
  },
  {
   "cell_type": "code",
   "execution_count": 27,
   "metadata": {},
   "outputs": [
    {
     "name": "stdout",
     "output_type": "stream",
     "text": [
      "Train on 4860 samples, validate on 607 samples\n",
      "Epoch 1/50\n",
      "4860/4860 [==============================] - 38s 8ms/sample - loss: 0.5820 - accuracy: 0.7479 - val_loss: 0.9629 - val_accuracy: 0.6392\n",
      "Epoch 2/50\n",
      "4860/4860 [==============================] - 38s 8ms/sample - loss: 0.5612 - accuracy: 0.7613 - val_loss: 0.9407 - val_accuracy: 0.6079\n",
      "Epoch 3/50\n",
      "4860/4860 [==============================] - 38s 8ms/sample - loss: 0.5055 - accuracy: 0.7842 - val_loss: 0.9792 - val_accuracy: 0.6409\n",
      "Epoch 4/50\n",
      "4860/4860 [==============================] - 38s 8ms/sample - loss: 0.4678 - accuracy: 0.8049 - val_loss: 0.9990 - val_accuracy: 0.6178\n",
      "Epoch 5/50\n",
      "4860/4860 [==============================] - 38s 8ms/sample - loss: 0.4434 - accuracy: 0.8056 - val_loss: 1.0074 - val_accuracy: 0.6376\n",
      "Epoch 6/50\n",
      "4860/4860 [==============================] - 38s 8ms/sample - loss: 0.4136 - accuracy: 0.8272 - val_loss: 1.0699 - val_accuracy: 0.6606\n",
      "Epoch 7/50\n",
      "4860/4860 [==============================] - 38s 8ms/sample - loss: 0.3879 - accuracy: 0.8432 - val_loss: 1.0806 - val_accuracy: 0.6524\n",
      "Epoch 8/50\n",
      "4860/4860 [==============================] - 38s 8ms/sample - loss: 0.3871 - accuracy: 0.8362 - val_loss: 1.1098 - val_accuracy: 0.6507\n",
      "Epoch 9/50\n",
      "4860/4860 [==============================] - 38s 8ms/sample - loss: 0.3439 - accuracy: 0.8574 - val_loss: 1.2527 - val_accuracy: 0.6425\n",
      "Epoch 10/50\n",
      "4860/4860 [==============================] - 38s 8ms/sample - loss: 0.3742 - accuracy: 0.8479 - val_loss: 1.1293 - val_accuracy: 0.6458\n",
      "Epoch 11/50\n",
      "4860/4860 [==============================] - 38s 8ms/sample - loss: 0.3190 - accuracy: 0.8780 - val_loss: 1.2023 - val_accuracy: 0.6260\n",
      "Epoch 12/50\n",
      "4860/4860 [==============================] - 38s 8ms/sample - loss: 0.2970 - accuracy: 0.8844 - val_loss: 1.2500 - val_accuracy: 0.6194\n",
      "Epoch 13/50\n",
      "4860/4860 [==============================] - 38s 8ms/sample - loss: 0.2751 - accuracy: 0.8922 - val_loss: 1.1983 - val_accuracy: 0.6623\n",
      "Epoch 14/50\n",
      "4860/4860 [==============================] - 38s 8ms/sample - loss: 0.2728 - accuracy: 0.8947 - val_loss: 1.2854 - val_accuracy: 0.6359\n",
      "Epoch 15/50\n",
      "4860/4860 [==============================] - 38s 8ms/sample - loss: 0.2491 - accuracy: 0.9025 - val_loss: 1.3176 - val_accuracy: 0.6227\n",
      "Epoch 16/50\n",
      "4860/4860 [==============================] - 38s 8ms/sample - loss: 0.2291 - accuracy: 0.9076 - val_loss: 1.3681 - val_accuracy: 0.6458\n",
      "Epoch 17/50\n",
      "4860/4860 [==============================] - 39s 8ms/sample - loss: 0.2256 - accuracy: 0.9082 - val_loss: 1.5235 - val_accuracy: 0.6178\n",
      "Epoch 18/50\n",
      "4860/4860 [==============================] - 38s 8ms/sample - loss: 0.2141 - accuracy: 0.9117 - val_loss: 1.4045 - val_accuracy: 0.6376\n",
      "Epoch 19/50\n",
      "4860/4860 [==============================] - 38s 8ms/sample - loss: 0.2021 - accuracy: 0.9140 - val_loss: 1.4448 - val_accuracy: 0.6211\n",
      "Epoch 20/50\n",
      "4860/4860 [==============================] - 38s 8ms/sample - loss: 0.1977 - accuracy: 0.9173 - val_loss: 1.4361 - val_accuracy: 0.6194\n",
      "Epoch 21/50\n",
      "4860/4860 [==============================] - 39s 8ms/sample - loss: 0.1910 - accuracy: 0.9195 - val_loss: 1.4904 - val_accuracy: 0.6227\n",
      "Epoch 22/50\n",
      "4860/4860 [==============================] - 38s 8ms/sample - loss: 0.1719 - accuracy: 0.9255 - val_loss: 1.4725 - val_accuracy: 0.6458\n",
      "Epoch 00022: early stopping\n"
     ]
    }
   ],
   "source": [
    "es = EarlyStopping(monitor='val_accuracy', mode='min', verbose=1, patience=20)\n",
    "model_save = ModelCheckpoint('best_classification.hdf5', save_best_only=True, monitor='val_accuracy', mode='min')\n",
    "\n",
    "history = model.fit(train_X, train_Y, batch_size=BATCH_SIZE, epochs=EPOCHS, validation_data=(dev_X, dev_Y), callbacks=[es, model_save])"
   ]
  },
  {
   "cell_type": "markdown",
   "metadata": {},
   "source": [
    "## Resultados"
   ]
  },
  {
   "cell_type": "markdown",
   "metadata": {},
   "source": [
    "Ahora veamos el comportamiento del entrenamiento a travéz de las épocas."
   ]
  },
  {
   "cell_type": "code",
   "execution_count": 28,
   "metadata": {},
   "outputs": [
    {
     "name": "stdout",
     "output_type": "stream",
     "text": [
      "Index(['loss', 'accuracy', 'val_loss', 'val_accuracy'], dtype='object')\n"
     ]
    },
    {
     "data": {
      "image/png": "[encoded data removed]",
      "text/plain": [
       "<Figure size 864x864 with 1 Axes>"
      ]
     },
     "metadata": {
      "needs_background": "light"
     },
     "output_type": "display_data"
    }
   ],
   "source": [
    "hist = pd.DataFrame(history.history)\n",
    "plt.figure(figsize=(12,12))\n",
    "print(hist.keys())\n",
    "plt.plot(hist[\"accuracy\"])\n",
    "plt.plot(hist[\"val_accuracy\"])\n",
    "plt.show()"
   ]
  },
  {
   "cell_type": "markdown",
   "metadata": {},
   "source": [
    "Y guardamos el modelo"
   ]
  },
  {
   "cell_type": "code",
   "execution_count": null,
   "metadata": {},
   "outputs": [],
   "source": [
    "model.save(\"Models/restaurant_classification.h5\")"
   ]
  },
  {
   "cell_type": "markdown",
   "metadata": {},
   "source": [
    "## Ejercicio"
   ]
  },
  {
   "cell_type": "markdown",
   "metadata": {},
   "source": [
    "Hemos visto cómo usar un LSTM para entrenar un modelo que nos permite clasificar un texto. Sin embargo, el set de datos con el que contamos incluye información complementaria: cómo tipo de restaurante y localización del mismo. Es hora de integrar estos datos para mejorar el rendimiento del modelo. \n",
    "\n",
    "* ¿Cuál sería la mejor forma de integrar estos datos al modelo?\n",
    "* Implemente una solución y demuestre que su modelo mejora al LSTM simple.\n",
    "* ¿Tiene alguna otra idea de cómo mejorar el rendimiento del modelo?"
   ]
  },
  {
   "cell_type": "code",
   "execution_count": null,
   "metadata": {},
   "outputs": [],
   "source": []
  }
 ],
 "metadata": {
  "kernelspec": {
   "display_name": "Python 3",
   "language": "python",
   "name": "python3"
  },
  "language_info": {
   "codemirror_mode": {
    "name": "ipython",
    "version": 3
   },
   "file_extension": ".py",
   "mimetype": "text/x-python",
   "name": "python",
   "nbconvert_exporter": "python",
   "pygments_lexer": "ipython3",
   "version": "3.7.3"
  }
 },
 "nbformat": 4,
 "nbformat_minor": 2
}
